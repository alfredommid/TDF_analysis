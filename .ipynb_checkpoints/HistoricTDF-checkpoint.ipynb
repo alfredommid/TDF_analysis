{
 "cells": [
  {
   "cell_type": "markdown",
   "metadata": {},
   "source": [
    "# Historic Tour de France Stage Winners "
   ]
  },
  {
   "cell_type": "code",
   "execution_count": 1,
   "metadata": {},
   "outputs": [],
   "source": [
    "import pandas as pd\n",
    "import numpy as np\n",
    "import seaborn as sns\n",
    "import matplotlib.pyplot as plt\n",
    "import plotly.express as px\n",
    "import plotly.graph_objects as go"
   ]
  },
  {
   "cell_type": "markdown",
   "metadata": {},
   "source": [
    "## Loading Data"
   ]
  },
  {
   "cell_type": "code",
   "execution_count": 2,
   "metadata": {},
   "outputs": [
    {
     "data": {
      "text/html": [
       "<div>\n",
       "<style scoped>\n",
       "    .dataframe tbody tr th:only-of-type {\n",
       "        vertical-align: middle;\n",
       "    }\n",
       "\n",
       "    .dataframe tbody tr th {\n",
       "        vertical-align: top;\n",
       "    }\n",
       "\n",
       "    .dataframe thead th {\n",
       "        text-align: right;\n",
       "    }\n",
       "</style>\n",
       "<table border=\"1\" class=\"dataframe\">\n",
       "  <thead>\n",
       "    <tr style=\"text-align: right;\">\n",
       "      <th></th>\n",
       "      <th>Stage</th>\n",
       "      <th>Date</th>\n",
       "      <th>Distance</th>\n",
       "      <th>Origin</th>\n",
       "      <th>Destination</th>\n",
       "      <th>Type</th>\n",
       "      <th>Winner</th>\n",
       "      <th>Winner_Country</th>\n",
       "    </tr>\n",
       "  </thead>\n",
       "  <tbody>\n",
       "    <tr>\n",
       "      <th>0</th>\n",
       "      <td>1</td>\n",
       "      <td>2017-07-01</td>\n",
       "      <td>14.0</td>\n",
       "      <td>Düsseldorf</td>\n",
       "      <td>Düsseldorf</td>\n",
       "      <td>Individual time trial</td>\n",
       "      <td>Geraint Thomas</td>\n",
       "      <td>GBR</td>\n",
       "    </tr>\n",
       "    <tr>\n",
       "      <th>1</th>\n",
       "      <td>2</td>\n",
       "      <td>2017-07-02</td>\n",
       "      <td>203.5</td>\n",
       "      <td>Düsseldorf</td>\n",
       "      <td>Liège</td>\n",
       "      <td>Flat stage</td>\n",
       "      <td>Marcel Kittel</td>\n",
       "      <td>GER</td>\n",
       "    </tr>\n",
       "    <tr>\n",
       "      <th>2</th>\n",
       "      <td>3</td>\n",
       "      <td>2017-07-03</td>\n",
       "      <td>212.5</td>\n",
       "      <td>Verviers</td>\n",
       "      <td>Longwy</td>\n",
       "      <td>Medium mountain stage</td>\n",
       "      <td>Peter Sagan</td>\n",
       "      <td>SVK</td>\n",
       "    </tr>\n",
       "    <tr>\n",
       "      <th>3</th>\n",
       "      <td>4</td>\n",
       "      <td>2017-07-04</td>\n",
       "      <td>207.5</td>\n",
       "      <td>Mondorf-les-Bains</td>\n",
       "      <td>Vittel</td>\n",
       "      <td>Flat stage</td>\n",
       "      <td>Arnaud Démare</td>\n",
       "      <td>FRA</td>\n",
       "    </tr>\n",
       "    <tr>\n",
       "      <th>4</th>\n",
       "      <td>5</td>\n",
       "      <td>2017-07-05</td>\n",
       "      <td>160.5</td>\n",
       "      <td>Vittel</td>\n",
       "      <td>La Planche des Belles Filles</td>\n",
       "      <td>Medium mountain stage</td>\n",
       "      <td>Fabio Aru</td>\n",
       "      <td>ITA</td>\n",
       "    </tr>\n",
       "    <tr>\n",
       "      <th>5</th>\n",
       "      <td>6</td>\n",
       "      <td>2017-07-06</td>\n",
       "      <td>216.0</td>\n",
       "      <td>Vesoul</td>\n",
       "      <td>Troyes</td>\n",
       "      <td>Flat stage</td>\n",
       "      <td>Marcel Kittel</td>\n",
       "      <td>GER</td>\n",
       "    </tr>\n",
       "    <tr>\n",
       "      <th>6</th>\n",
       "      <td>7</td>\n",
       "      <td>2017-07-07</td>\n",
       "      <td>213.5</td>\n",
       "      <td>Troyes</td>\n",
       "      <td>Nuits-Saint-Georges</td>\n",
       "      <td>Flat stage</td>\n",
       "      <td>Marcel Kittel</td>\n",
       "      <td>GER</td>\n",
       "    </tr>\n",
       "    <tr>\n",
       "      <th>7</th>\n",
       "      <td>8</td>\n",
       "      <td>2017-07-08</td>\n",
       "      <td>187.5</td>\n",
       "      <td>Dole</td>\n",
       "      <td>Station des Rousses</td>\n",
       "      <td>Medium mountain stage</td>\n",
       "      <td>Lilian Calmejane</td>\n",
       "      <td>FRA</td>\n",
       "    </tr>\n",
       "    <tr>\n",
       "      <th>8</th>\n",
       "      <td>9</td>\n",
       "      <td>2017-07-09</td>\n",
       "      <td>181.5</td>\n",
       "      <td>Nantua</td>\n",
       "      <td>Chambéry</td>\n",
       "      <td>High mountain stage</td>\n",
       "      <td>Rigoberto Urán</td>\n",
       "      <td>COL</td>\n",
       "    </tr>\n",
       "    <tr>\n",
       "      <th>9</th>\n",
       "      <td>10</td>\n",
       "      <td>2017-07-11</td>\n",
       "      <td>178.0</td>\n",
       "      <td>Périgueux</td>\n",
       "      <td>Bergerac</td>\n",
       "      <td>Flat stage</td>\n",
       "      <td>Marcel Kittel</td>\n",
       "      <td>GER</td>\n",
       "    </tr>\n",
       "  </tbody>\n",
       "</table>\n",
       "</div>"
      ],
      "text/plain": [
       "  Stage        Date  Distance             Origin  \\\n",
       "0     1  2017-07-01      14.0         Düsseldorf   \n",
       "1     2  2017-07-02     203.5         Düsseldorf   \n",
       "2     3  2017-07-03     212.5           Verviers   \n",
       "3     4  2017-07-04     207.5  Mondorf-les-Bains   \n",
       "4     5  2017-07-05     160.5             Vittel   \n",
       "5     6  2017-07-06     216.0             Vesoul   \n",
       "6     7  2017-07-07     213.5             Troyes   \n",
       "7     8  2017-07-08     187.5               Dole   \n",
       "8     9  2017-07-09     181.5             Nantua   \n",
       "9    10  2017-07-11     178.0          Périgueux   \n",
       "\n",
       "                    Destination                   Type            Winner  \\\n",
       "0                    Düsseldorf  Individual time trial    Geraint Thomas   \n",
       "1                         Liège             Flat stage     Marcel Kittel   \n",
       "2                        Longwy  Medium mountain stage       Peter Sagan   \n",
       "3                        Vittel             Flat stage     Arnaud Démare   \n",
       "4  La Planche des Belles Filles  Medium mountain stage         Fabio Aru   \n",
       "5                        Troyes             Flat stage     Marcel Kittel   \n",
       "6           Nuits-Saint-Georges             Flat stage     Marcel Kittel   \n",
       "7           Station des Rousses  Medium mountain stage  Lilian Calmejane   \n",
       "8                      Chambéry    High mountain stage    Rigoberto Urán   \n",
       "9                      Bergerac             Flat stage     Marcel Kittel   \n",
       "\n",
       "  Winner_Country  \n",
       "0            GBR  \n",
       "1            GER  \n",
       "2            SVK  \n",
       "3            FRA  \n",
       "4            ITA  \n",
       "5            GER  \n",
       "6            GER  \n",
       "7            FRA  \n",
       "8            COL  \n",
       "9            GER  "
      ]
     },
     "execution_count": 2,
     "metadata": {},
     "output_type": "execute_result"
    }
   ],
   "source": [
    "tour = pd.read_csv('stages_TDF.csv')\n",
    "tour.head(10)"
   ]
  },
  {
   "cell_type": "code",
   "execution_count": 3,
   "metadata": {},
   "outputs": [
    {
     "data": {
      "text/html": [
       "<div>\n",
       "<style scoped>\n",
       "    .dataframe tbody tr th:only-of-type {\n",
       "        vertical-align: middle;\n",
       "    }\n",
       "\n",
       "    .dataframe tbody tr th {\n",
       "        vertical-align: top;\n",
       "    }\n",
       "\n",
       "    .dataframe thead th {\n",
       "        text-align: right;\n",
       "    }\n",
       "</style>\n",
       "<table border=\"1\" class=\"dataframe\">\n",
       "  <thead>\n",
       "    <tr style=\"text-align: right;\">\n",
       "      <th></th>\n",
       "      <th>Stage</th>\n",
       "      <th>Date</th>\n",
       "      <th>Distance</th>\n",
       "      <th>Origin</th>\n",
       "      <th>Destination</th>\n",
       "      <th>Type</th>\n",
       "      <th>Winner</th>\n",
       "      <th>Winner_Country</th>\n",
       "    </tr>\n",
       "  </thead>\n",
       "  <tbody>\n",
       "    <tr>\n",
       "      <th>2226</th>\n",
       "      <td>3</td>\n",
       "      <td>1904-07-13</td>\n",
       "      <td>424.0</td>\n",
       "      <td>Marseille</td>\n",
       "      <td>Toulouse</td>\n",
       "      <td>Plain stage</td>\n",
       "      <td>Hippolyte Aucouturier</td>\n",
       "      <td>FRA</td>\n",
       "    </tr>\n",
       "    <tr>\n",
       "      <th>2227</th>\n",
       "      <td>4</td>\n",
       "      <td>1904-07-17</td>\n",
       "      <td>268.0</td>\n",
       "      <td>Toulouse</td>\n",
       "      <td>Bordeaux</td>\n",
       "      <td>Plain stage</td>\n",
       "      <td>Lucien Pothier</td>\n",
       "      <td>FRA</td>\n",
       "    </tr>\n",
       "    <tr>\n",
       "      <th>2228</th>\n",
       "      <td>5</td>\n",
       "      <td>1904-07-20</td>\n",
       "      <td>425.0</td>\n",
       "      <td>Bordeaux</td>\n",
       "      <td>Nantes</td>\n",
       "      <td>Plain stage</td>\n",
       "      <td>Hippolyte Aucouturier</td>\n",
       "      <td>FRA</td>\n",
       "    </tr>\n",
       "    <tr>\n",
       "      <th>2229</th>\n",
       "      <td>6</td>\n",
       "      <td>1904-07-23</td>\n",
       "      <td>471.0</td>\n",
       "      <td>Nantes</td>\n",
       "      <td>Paris</td>\n",
       "      <td>Plain stage</td>\n",
       "      <td>Hippolyte Aucouturier</td>\n",
       "      <td>FRA</td>\n",
       "    </tr>\n",
       "    <tr>\n",
       "      <th>2230</th>\n",
       "      <td>1</td>\n",
       "      <td>1903-07-01</td>\n",
       "      <td>467.0</td>\n",
       "      <td>Paris</td>\n",
       "      <td>Lyon</td>\n",
       "      <td>Plain stage</td>\n",
       "      <td>Maurice Garin</td>\n",
       "      <td>FRA</td>\n",
       "    </tr>\n",
       "    <tr>\n",
       "      <th>2231</th>\n",
       "      <td>2</td>\n",
       "      <td>1903-07-05</td>\n",
       "      <td>374.0</td>\n",
       "      <td>Lyon</td>\n",
       "      <td>Marseille</td>\n",
       "      <td>Stage with mountain(s)</td>\n",
       "      <td>Hippolyte Aucouturier</td>\n",
       "      <td>FRA</td>\n",
       "    </tr>\n",
       "    <tr>\n",
       "      <th>2232</th>\n",
       "      <td>3</td>\n",
       "      <td>1903-07-08</td>\n",
       "      <td>423.0</td>\n",
       "      <td>Marseille</td>\n",
       "      <td>Toulouse</td>\n",
       "      <td>Plain stage</td>\n",
       "      <td>Hippolyte Aucouturier</td>\n",
       "      <td>FRA</td>\n",
       "    </tr>\n",
       "    <tr>\n",
       "      <th>2233</th>\n",
       "      <td>4</td>\n",
       "      <td>1903-07-12</td>\n",
       "      <td>268.0</td>\n",
       "      <td>Toulouse</td>\n",
       "      <td>Bordeaux</td>\n",
       "      <td>Plain stage</td>\n",
       "      <td>Charles Laeser</td>\n",
       "      <td>SUI</td>\n",
       "    </tr>\n",
       "    <tr>\n",
       "      <th>2234</th>\n",
       "      <td>5</td>\n",
       "      <td>1903-07-13</td>\n",
       "      <td>425.0</td>\n",
       "      <td>Bordeaux</td>\n",
       "      <td>Nantes</td>\n",
       "      <td>Plain stage</td>\n",
       "      <td>Maurice Garin</td>\n",
       "      <td>FRA</td>\n",
       "    </tr>\n",
       "    <tr>\n",
       "      <th>2235</th>\n",
       "      <td>6</td>\n",
       "      <td>1903-07-18</td>\n",
       "      <td>471.0</td>\n",
       "      <td>Nantes</td>\n",
       "      <td>Paris</td>\n",
       "      <td>Plain stage</td>\n",
       "      <td>Maurice Garin</td>\n",
       "      <td>FRA</td>\n",
       "    </tr>\n",
       "  </tbody>\n",
       "</table>\n",
       "</div>"
      ],
      "text/plain": [
       "     Stage        Date  Distance     Origin Destination  \\\n",
       "2226     3  1904-07-13     424.0  Marseille    Toulouse   \n",
       "2227     4  1904-07-17     268.0   Toulouse    Bordeaux   \n",
       "2228     5  1904-07-20     425.0   Bordeaux      Nantes   \n",
       "2229     6  1904-07-23     471.0     Nantes       Paris   \n",
       "2230     1  1903-07-01     467.0      Paris        Lyon   \n",
       "2231     2  1903-07-05     374.0       Lyon   Marseille   \n",
       "2232     3  1903-07-08     423.0  Marseille    Toulouse   \n",
       "2233     4  1903-07-12     268.0   Toulouse    Bordeaux   \n",
       "2234     5  1903-07-13     425.0   Bordeaux      Nantes   \n",
       "2235     6  1903-07-18     471.0     Nantes       Paris   \n",
       "\n",
       "                        Type                 Winner Winner_Country  \n",
       "2226             Plain stage  Hippolyte Aucouturier            FRA  \n",
       "2227             Plain stage         Lucien Pothier            FRA  \n",
       "2228             Plain stage  Hippolyte Aucouturier            FRA  \n",
       "2229             Plain stage  Hippolyte Aucouturier            FRA  \n",
       "2230             Plain stage          Maurice Garin            FRA  \n",
       "2231  Stage with mountain(s)  Hippolyte Aucouturier            FRA  \n",
       "2232             Plain stage  Hippolyte Aucouturier            FRA  \n",
       "2233             Plain stage         Charles Laeser            SUI  \n",
       "2234             Plain stage          Maurice Garin            FRA  \n",
       "2235             Plain stage          Maurice Garin            FRA  "
      ]
     },
     "execution_count": 3,
     "metadata": {},
     "output_type": "execute_result"
    }
   ],
   "source": [
    "tour.tail(10)"
   ]
  },
  {
   "cell_type": "markdown",
   "metadata": {},
   "source": [
    "## Preguntas\n",
    "* ¿Cuántas etapas ha ganado un Mexicano?\n",
    "* ¿Qué competidor ha ganado más?\n",
    "* ¿Qué tipo de etapa predomina?\n",
    "* ¿Cúales son las etapas con mayor distancia recorridad?\n",
    "* ¿De qué nacionalidad han ganado más etapas?"
   ]
  },
  {
   "cell_type": "markdown",
   "metadata": {},
   "source": [
    "### Entendiendo la base de datos"
   ]
  },
  {
   "cell_type": "code",
   "execution_count": 4,
   "metadata": {},
   "outputs": [
    {
     "data": {
      "text/plain": [
       "(2236, 8)"
      ]
     },
     "execution_count": 4,
     "metadata": {},
     "output_type": "execute_result"
    }
   ],
   "source": [
    "tour.shape"
   ]
  },
  {
   "cell_type": "code",
   "execution_count": 5,
   "metadata": {},
   "outputs": [
    {
     "data": {
      "text/plain": [
       "Index(['Stage', 'Date', 'Distance', 'Origin', 'Destination', 'Type', 'Winner',\n",
       "       'Winner_Country'],\n",
       "      dtype='object')"
      ]
     },
     "execution_count": 5,
     "metadata": {},
     "output_type": "execute_result"
    }
   ],
   "source": [
    "tour.columns"
   ]
  },
  {
   "cell_type": "code",
   "execution_count": 6,
   "metadata": {},
   "outputs": [
    {
     "name": "stdout",
     "output_type": "stream",
     "text": [
      "<class 'pandas.core.frame.DataFrame'>\n",
      "RangeIndex: 2236 entries, 0 to 2235\n",
      "Data columns (total 8 columns):\n",
      " #   Column          Non-Null Count  Dtype  \n",
      "---  ------          --------------  -----  \n",
      " 0   Stage           2236 non-null   object \n",
      " 1   Date            2236 non-null   object \n",
      " 2   Distance        2236 non-null   float64\n",
      " 3   Origin          2236 non-null   object \n",
      " 4   Destination     2236 non-null   object \n",
      " 5   Type            2236 non-null   object \n",
      " 6   Winner          2236 non-null   object \n",
      " 7   Winner_Country  2184 non-null   object \n",
      "dtypes: float64(1), object(7)\n",
      "memory usage: 139.9+ KB\n"
     ]
    }
   ],
   "source": [
    "tour.info()"
   ]
  },
  {
   "cell_type": "markdown",
   "metadata": {},
   "source": [
    "###  Cambiar el dtype a datetime"
   ]
  },
  {
   "cell_type": "code",
   "execution_count": 7,
   "metadata": {},
   "outputs": [
    {
     "name": "stdout",
     "output_type": "stream",
     "text": [
      "<class 'pandas.core.frame.DataFrame'>\n",
      "RangeIndex: 2236 entries, 0 to 2235\n",
      "Data columns (total 8 columns):\n",
      " #   Column          Non-Null Count  Dtype         \n",
      "---  ------          --------------  -----         \n",
      " 0   Stage           2236 non-null   object        \n",
      " 1   Date            2236 non-null   datetime64[ns]\n",
      " 2   Distance        2236 non-null   float64       \n",
      " 3   Origin          2236 non-null   object        \n",
      " 4   Destination     2236 non-null   object        \n",
      " 5   Type            2236 non-null   object        \n",
      " 6   Winner          2236 non-null   object        \n",
      " 7   Winner_Country  2184 non-null   object        \n",
      "dtypes: datetime64[ns](1), float64(1), object(6)\n",
      "memory usage: 139.9+ KB\n"
     ]
    }
   ],
   "source": [
    "tour['Date']=pd.to_datetime(tour['Date'])\n",
    "tour.info()"
   ]
  },
  {
   "cell_type": "markdown",
   "metadata": {},
   "source": [
    "### Análisis de valores nulos"
   ]
  },
  {
   "cell_type": "code",
   "execution_count": 8,
   "metadata": {},
   "outputs": [
    {
     "data": {
      "text/plain": [
       "Stage              0\n",
       "Date               0\n",
       "Distance           0\n",
       "Origin             0\n",
       "Destination        0\n",
       "Type               0\n",
       "Winner             0\n",
       "Winner_Country    52\n",
       "dtype: int64"
      ]
     },
     "execution_count": 8,
     "metadata": {},
     "output_type": "execute_result"
    }
   ],
   "source": [
    "tour.isnull().sum()"
   ]
  },
  {
   "cell_type": "code",
   "execution_count": 9,
   "metadata": {},
   "outputs": [
    {
     "data": {
      "text/plain": [
       "Stage             0.000000\n",
       "Date              0.000000\n",
       "Distance          0.000000\n",
       "Origin            0.000000\n",
       "Destination       0.000000\n",
       "Type              0.000000\n",
       "Winner            0.000000\n",
       "Winner_Country    0.023256\n",
       "dtype: float64"
      ]
     },
     "execution_count": 9,
     "metadata": {},
     "output_type": "execute_result"
    }
   ],
   "source": [
    "tour.isnull().sum()/tour.shape[0]"
   ]
  },
  {
   "cell_type": "code",
   "execution_count": 10,
   "metadata": {},
   "outputs": [
    {
     "data": {
      "text/plain": [
       "Int64Index([  50,   87,  127,  171,  255,  319,  341,  360,  416,  468,  481,\n",
       "             489,  512,  533,  553,  576,  598,  620,  643,  669,  694,  718,\n",
       "             741,  767,  771,  787,  790,  812,  818,  839,  843,  865,  873,\n",
       "             894,  907,  918,  972,  995, 1023, 1044, 1072, 1100, 1127, 1156,\n",
       "            1177, 1201, 1227, 1251, 1274, 1388, 1434, 1459],\n",
       "           dtype='int64')"
      ]
     },
     "execution_count": 10,
     "metadata": {},
     "output_type": "execute_result"
    }
   ],
   "source": [
    "null_countries = tour[tour['Winner_Country'].isnull()]\n",
    "null_countries.index"
   ]
  },
  {
   "cell_type": "markdown",
   "metadata": {},
   "source": [
    "### La cantidad de datos únicos es similar al total de valores"
   ]
  },
  {
   "cell_type": "code",
   "execution_count": 11,
   "metadata": {},
   "outputs": [
    {
     "data": {
      "text/plain": [
       "43"
      ]
     },
     "execution_count": 11,
     "metadata": {},
     "output_type": "execute_result"
    }
   ],
   "source": [
    "len(null_countries['Winner'].unique())"
   ]
  },
  {
   "cell_type": "code",
   "execution_count": 12,
   "metadata": {},
   "outputs": [
    {
     "data": {
      "text/plain": [
       "Stage             0\n",
       "Date              0\n",
       "Distance          0\n",
       "Origin            0\n",
       "Destination       0\n",
       "Type              0\n",
       "Winner            0\n",
       "Winner_Country    0\n",
       "dtype: int64"
      ]
     },
     "execution_count": 12,
     "metadata": {},
     "output_type": "execute_result"
    }
   ],
   "source": [
    "tour = tour.dropna()\n",
    "tour.isnull().sum()"
   ]
  },
  {
   "cell_type": "markdown",
   "metadata": {},
   "source": [
    "### Limpieza de datos"
   ]
  },
  {
   "cell_type": "code",
   "execution_count": 13,
   "metadata": {},
   "outputs": [
    {
     "data": {
      "text/plain": [
       "array(['Individual time trial', 'Flat stage', 'Medium mountain stage',\n",
       "       'High mountain stage', 'Mountain time trial',\n",
       "       'Flat cobblestone stage', 'Mountain stage', 'Mountain Stage',\n",
       "       'Transition stage', 'Plain stage', 'Intermediate stage',\n",
       "       'Hilly stage', 'Team time trial', 'Stage with mountain(s)',\n",
       "       'Plain stage with cobblestones', 'Flat Stage', 'Half Stage',\n",
       "       'Stage with mountain'], dtype=object)"
      ]
     },
     "execution_count": 13,
     "metadata": {},
     "output_type": "execute_result"
    }
   ],
   "source": [
    "tour.Type.unique()"
   ]
  },
  {
   "cell_type": "code",
   "execution_count": 14,
   "metadata": {},
   "outputs": [
    {
     "data": {
      "text/plain": [
       "array(['Individual time trial', 'Flat', 'Mountain', 'Mountain time trial',\n",
       "       'Transition stage', 'Intermediate stage', 'Hilly stage',\n",
       "       'Team time trial', 'Half Stage'], dtype=object)"
      ]
     },
     "execution_count": 14,
     "metadata": {},
     "output_type": "execute_result"
    }
   ],
   "source": [
    "tour.Type.replace(['Mountain stage', 'Stage with mountain(s)', 'Stage with mountain', 'Medium mountain stage', 'Mountain Stage', 'High mountain stage'], ['Mountain', 'Mountain', 'Mountain', 'Mountain', 'Mountain', 'Mountain'], inplace=True)\n",
    "tour.Type.replace(['Flat stage', 'Flat cobblestone stage', 'Plain stage', 'Plain stage with cobblestones', 'Flat Stage'], ['Flat', 'Flat', 'Flat', 'Flat', 'Flat'], inplace=True)\n",
    "tour.Type.unique()"
   ]
  },
  {
   "cell_type": "markdown",
   "metadata": {},
   "source": [
    "### ¿Cuántas etapas ha ganado un Mexicano?"
   ]
  },
  {
   "cell_type": "code",
   "execution_count": 15,
   "metadata": {},
   "outputs": [
    {
     "data": {
      "text/plain": [
       "0    GBR\n",
       "1    GER\n",
       "2    SVK\n",
       "3    FRA\n",
       "4    ITA\n",
       "5    GER\n",
       "6    GER\n",
       "7    FRA\n",
       "8    COL\n",
       "9    GER\n",
       "Name: Winner_Country, dtype: object"
      ]
     },
     "execution_count": 15,
     "metadata": {},
     "output_type": "execute_result"
    }
   ],
   "source": [
    "tour.Winner_Country.head(10)"
   ]
  },
  {
   "cell_type": "code",
   "execution_count": 16,
   "metadata": {},
   "outputs": [
    {
     "data": {
      "text/plain": [
       "array(['GBR', 'GER', 'SVK', 'FRA', 'ITA', 'COL', 'AUS', 'NED', 'SLO',\n",
       "       'NOR', 'POL', 'BEL', 'RUS', 'ESP', 'CZE', 'LTU', 'IRL', 'POR',\n",
       "       'SUI', 'USA', 'LUX', 'KAZ', 'DEN', 'RSA', 'UKR', 'AUT', 'EST',\n",
       "       'SWE', 'UZB', 'LAT', 'IRE', 'URS', 'BRA', 'MEX', 'GDR', 'CAN',\n",
       "       'FRG', 'c(\"FRA\", \"FRA\")', 'c(\"BEL\", \"GER\")', 'c(\"BEL\", \"BEL\")'],\n",
       "      dtype=object)"
      ]
     },
     "execution_count": 16,
     "metadata": {},
     "output_type": "execute_result"
    }
   ],
   "source": [
    "tour.Winner_Country.unique()"
   ]
  },
  {
   "cell_type": "code",
   "execution_count": 17,
   "metadata": {},
   "outputs": [
    {
     "data": {
      "text/html": [
       "<div>\n",
       "<style scoped>\n",
       "    .dataframe tbody tr th:only-of-type {\n",
       "        vertical-align: middle;\n",
       "    }\n",
       "\n",
       "    .dataframe tbody tr th {\n",
       "        vertical-align: top;\n",
       "    }\n",
       "\n",
       "    .dataframe thead th {\n",
       "        text-align: right;\n",
       "    }\n",
       "</style>\n",
       "<table border=\"1\" class=\"dataframe\">\n",
       "  <thead>\n",
       "    <tr style=\"text-align: right;\">\n",
       "      <th></th>\n",
       "      <th>index</th>\n",
       "      <th>Stage</th>\n",
       "      <th>Date</th>\n",
       "      <th>Distance</th>\n",
       "      <th>Origin</th>\n",
       "      <th>Destination</th>\n",
       "      <th>Type</th>\n",
       "      <th>Winner</th>\n",
       "      <th>Winner_Country</th>\n",
       "    </tr>\n",
       "  </thead>\n",
       "  <tbody>\n",
       "    <tr>\n",
       "      <th>0</th>\n",
       "      <td>597</td>\n",
       "      <td>1</td>\n",
       "      <td>1989-07-02</td>\n",
       "      <td>135.5</td>\n",
       "      <td>Luxembourg City</td>\n",
       "      <td>Luxembourg City</td>\n",
       "      <td>Flat</td>\n",
       "      <td>Acácio da Silva</td>\n",
       "      <td>POR</td>\n",
       "    </tr>\n",
       "    <tr>\n",
       "      <th>1</th>\n",
       "      <td>616</td>\n",
       "      <td>20</td>\n",
       "      <td>1989-07-22</td>\n",
       "      <td>130.0</td>\n",
       "      <td>Aix-les-Bains</td>\n",
       "      <td>L'Isle-d'Abeau</td>\n",
       "      <td>Flat</td>\n",
       "      <td>Giovanni Fidanza</td>\n",
       "      <td>ITA</td>\n",
       "    </tr>\n",
       "  </tbody>\n",
       "</table>\n",
       "</div>"
      ],
      "text/plain": [
       "   index Stage       Date  Distance           Origin      Destination  Type  \\\n",
       "0    597     1 1989-07-02     135.5  Luxembourg City  Luxembourg City  Flat   \n",
       "1    616    20 1989-07-22     130.0    Aix-les-Bains   L'Isle-d'Abeau  Flat   \n",
       "\n",
       "             Winner Winner_Country  \n",
       "0   Acácio da Silva            POR  \n",
       "1  Giovanni Fidanza            ITA  "
      ]
     },
     "execution_count": 17,
     "metadata": {},
     "output_type": "execute_result"
    }
   ],
   "source": [
    "mex_winner = tour[tour['Winner_Country'] == 'MEX']['Winner']\n",
    "mex = tour.iloc[mex_winner.index]\n",
    "mex.reset_index()"
   ]
  },
  {
   "cell_type": "markdown",
   "metadata": {},
   "source": [
    "### ¿Qué competidor ha ganado más?"
   ]
  },
  {
   "cell_type": "code",
   "execution_count": 52,
   "metadata": {},
   "outputs": [
    {
     "data": {
      "text/html": [
       "<div>\n",
       "<style scoped>\n",
       "    .dataframe tbody tr th:only-of-type {\n",
       "        vertical-align: middle;\n",
       "    }\n",
       "\n",
       "    .dataframe tbody tr th {\n",
       "        vertical-align: top;\n",
       "    }\n",
       "\n",
       "    .dataframe thead th {\n",
       "        text-align: right;\n",
       "    }\n",
       "</style>\n",
       "<table border=\"1\" class=\"dataframe\">\n",
       "  <thead>\n",
       "    <tr style=\"text-align: right;\">\n",
       "      <th></th>\n",
       "      <th>Winner</th>\n",
       "    </tr>\n",
       "  </thead>\n",
       "  <tbody>\n",
       "    <tr>\n",
       "      <th>Eddy Merckx</th>\n",
       "      <td>34</td>\n",
       "    </tr>\n",
       "    <tr>\n",
       "      <th>Mark Cavendish</th>\n",
       "      <td>30</td>\n",
       "    </tr>\n",
       "    <tr>\n",
       "      <th>Bernard Hinault</th>\n",
       "      <td>28</td>\n",
       "    </tr>\n",
       "    <tr>\n",
       "      <th>André Leducq</th>\n",
       "      <td>24</td>\n",
       "    </tr>\n",
       "    <tr>\n",
       "      <th>André Darrigade</th>\n",
       "      <td>22</td>\n",
       "    </tr>\n",
       "    <tr>\n",
       "      <th>Lance Armstrong[n 1]</th>\n",
       "      <td>20</td>\n",
       "    </tr>\n",
       "    <tr>\n",
       "      <th>Nicolas Frantz</th>\n",
       "      <td>20</td>\n",
       "    </tr>\n",
       "    <tr>\n",
       "      <th>François Faber</th>\n",
       "      <td>18</td>\n",
       "    </tr>\n",
       "    <tr>\n",
       "      <th>Jean Alavoine</th>\n",
       "      <td>17</td>\n",
       "    </tr>\n",
       "    <tr>\n",
       "      <th>Charles Pélissier</th>\n",
       "      <td>16</td>\n",
       "    </tr>\n",
       "  </tbody>\n",
       "</table>\n",
       "</div>"
      ],
      "text/plain": [
       "                      Winner\n",
       "Eddy Merckx               34\n",
       "Mark Cavendish            30\n",
       "Bernard Hinault           28\n",
       "André Leducq              24\n",
       "André Darrigade           22\n",
       "Lance Armstrong[n 1]      20\n",
       "Nicolas Frantz            20\n",
       "François Faber            18\n",
       "Jean Alavoine             17\n",
       "Charles Pélissier         16"
      ]
     },
     "execution_count": 52,
     "metadata": {},
     "output_type": "execute_result"
    }
   ],
   "source": [
    "top10 = pd.DataFrame(tour.Winner.value_counts()[0:10])\n",
    "top10"
   ]
  },
  {
   "cell_type": "code",
   "execution_count": 38,
   "metadata": {},
   "outputs": [
    {
     "data": {
      "text/plain": [
       "<AxesSubplot:xlabel='Winner', ylabel='count'>"
      ]
     },
     "execution_count": 38,
     "metadata": {},
     "output_type": "execute_result"
    },
    {
     "data": {
      "image/png": "[encoded data removed]",
      "text/plain": [
       "<Figure size 1080x864 with 1 Axes>"
      ]
     },
     "metadata": {
      "needs_background": "light"
     },
     "output_type": "display_data"
    }
   ],
   "source": [
    "plt.figure(figsize=(15,12))\n",
    "sns.countplot(x='Winner',data=df_winners)"
   ]
  }
 ],
 "metadata": {
  "kernelspec": {
   "display_name": "Python 3",
   "language": "python",
   "name": "python3"
  },
  "language_info": {
   "codemirror_mode": {
    "name": "ipython",
    "version": 3
   },
   "file_extension": ".py",
   "mimetype": "text/x-python",
   "name": "python",
   "nbconvert_exporter": "python",
   "pygments_lexer": "ipython3",
   "version": "3.8.5"
  }
 },
 "nbformat": 4,
 "nbformat_minor": 4
}
